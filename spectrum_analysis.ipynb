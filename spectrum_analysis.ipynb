{
 "cells": [
  {
   "cell_type": "code",
   "execution_count": null,
   "metadata": {},
   "outputs": [],
   "source": [
    "import matplotlib.pyplot as plt\n",
    "import soundfile\n",
    "\n",
    "from importlib import reload\n",
    "import utils\n",
    "reload(utils)\n",
    "\n",
    "%config InlineBackend.figure_format='retina'\n",
    "plt.rcParams[\"figure.figsize\"] = (16,6)\n",
    "\n",
    "%load_ext autoreload\n",
    "%autoreload 2"
   ]
  },
  {
   "cell_type": "code",
   "execution_count": null,
   "metadata": {},
   "outputs": [],
   "source": [
    "# Path to audio file (*.wav, *.flac or *.mp3)\n",
    "path = \"\""
   ]
  },
  {
   "cell_type": "code",
   "execution_count": null,
   "metadata": {},
   "outputs": [],
   "source": [
    "samples, fs = soundfile.read(path)\n",
    "left_channel = samples[:,0]\n",
    "right_channel = samples[:,1]\n",
    "\n",
    "print(f\"Sample rate {fs}Hz, num samples {len(left_channel)}, time {len(left_channel) / fs}s or {len(left_channel) / fs / 60}m\")"
   ]
  },
  {
   "cell_type": "code",
   "execution_count": null,
   "metadata": {},
   "outputs": [],
   "source": [
    "# Plot spectrogram with start and end time in minutes\n",
    "start = 15\n",
    "end = 20\n",
    "utils.plot_spectrogram(left_channel, right_channel, fs, start, end, window_size=fs//2)"
   ]
  },
  {
   "cell_type": "code",
   "execution_count": null,
   "metadata": {},
   "outputs": [],
   "source": [
    "# Plot spectrogram on zoomed-in interval, check that signals looks stationary\n",
    "start = 17\n",
    "end = 19\n",
    "utils.plot_spectrogram(left_channel, right_channel, fs, start, end, window_size=fs//2)"
   ]
  },
  {
   "cell_type": "code",
   "execution_count": null,
   "metadata": {},
   "outputs": [],
   "source": [
    "# Plot spectrum of wide range of frequencies\n",
    "start = 17\n",
    "end = 19\n",
    "low_f = 20\n",
    "high_f = 2000\n",
    "_ = utils.plot_fft(left_channel, right_channel, fs, start, end, low_f, high_f, log_y=True, vmax=0)"
   ]
  },
  {
   "cell_type": "code",
   "execution_count": null,
   "metadata": {},
   "outputs": [],
   "source": [
    "# Plot spectum on zoomed-in frequency range \n",
    "start = 17\n",
    "end = 19\n",
    "low_f = 20\n",
    "high_f = 150\n",
    "_ = utils.plot_fft(left_channel, right_channel, fs, start, end, low_f, high_f, log_y=True, vmax=0)"
   ]
  }
 ],
 "metadata": {
  "kernelspec": {
   "display_name": "base",
   "language": "python",
   "name": "python3"
  },
  "language_info": {
   "codemirror_mode": {
    "name": "ipython",
    "version": 3
   },
   "file_extension": ".py",
   "mimetype": "text/x-python",
   "name": "python",
   "nbconvert_exporter": "python",
   "pygments_lexer": "ipython3",
   "version": "3.12.2"
  }
 },
 "nbformat": 4,
 "nbformat_minor": 2
}
