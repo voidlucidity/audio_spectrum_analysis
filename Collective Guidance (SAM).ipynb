{
 "cells": [
  {
   "cell_type": "code",
   "execution_count": null,
   "metadata": {},
   "outputs": [],
   "source": [
    "import matplotlib.pyplot as plt\n",
    "import soundfile\n",
    "\n",
    "from importlib import reload\n",
    "import utils\n",
    "reload(utils)\n",
    "\n",
    "%config InlineBackend.figure_format='retina'\n",
    "plt.rcParams[\"figure.figsize\"] = (16,6)\n",
    "\n",
    "%load_ext autoreload\n",
    "%autoreload 2"
   ]
  },
  {
   "cell_type": "code",
   "execution_count": null,
   "metadata": {},
   "outputs": [],
   "source": [
    "# Path to audio file (*.wav, *.flac or *.mp3)\n",
    "path = \"samples/Collective Guidance (SAM).mp3\""
   ]
  },
  {
   "cell_type": "code",
   "execution_count": null,
   "metadata": {},
   "outputs": [],
   "source": [
    "samples, fs = soundfile.read(path)\n",
    "left_channel = samples[:,0]\n",
    "right_channel = samples[:,1]\n",
    "\n",
    "print(f\"Sample rate {fs}Hz, num samples {len(left_channel)}, time {len(left_channel) / fs}s or {len(left_channel) / fs / 60}m\")"
   ]
  },
  {
   "cell_type": "code",
   "execution_count": null,
   "metadata": {},
   "outputs": [],
   "source": [
    "# Plot spectrogram with start and end time in minutes\n",
    "start = 11\n",
    "end = 22\n",
    "utils.plot_spectrogram(left_channel, right_channel, fs, start, end, window_size=fs//2)\n",
    "\n",
    "# We can see in background there's flowing noise modulation with notch filter.\n",
    "# There are many short traces but all it should be mostly from music.\n",
    "# We can also see stationary traces "
   ]
  },
  {
   "cell_type": "code",
   "execution_count": null,
   "metadata": {},
   "outputs": [],
   "source": [
    "# Zoom in on spectrogram to see noise noth modulation in more details.\n",
    "start = 11\n",
    "end = 12\n",
    "utils.plot_spectrogram(left_channel, right_channel, fs, start, end, window_size=fs//2)\n",
    "\n",
    "# It looks exatly like notch filter with sinusoidaly modulated notch frequency\n",
    "# with 0.1Hz frequency."
   ]
  },
  {
   "cell_type": "code",
   "execution_count": null,
   "metadata": {},
   "outputs": [],
   "source": [
    "# Plot spectrum of wide range of frequencies\n",
    "start = 11\n",
    "end = 22\n",
    "low_f = 20\n",
    "high_f = 2000\n",
    "_ = utils.plot_fft(left_channel, right_channel, fs, start, end, low_f, high_f, log_y=True, vmax=0)\n",
    "\n",
    "# We can see that there are some defite peask at 144.16Hz, 192.43Hz and 242.45Hz\n",
    "# that looks like some modulated singal (notice symmetric harmonics around the\n",
    "# base frequency).\n",
    "# \n",
    "# There's also antoher signal at 576.65Hz.\n",
    "# \n",
    "# There's also something below 100Hz but need to zoom in for more details."
   ]
  },
  {
   "cell_type": "code",
   "execution_count": null,
   "metadata": {},
   "outputs": [],
   "source": [
    "# Let's zoom in on 576.65Hz signal\n",
    "start = 11\n",
    "end = 22\n",
    "low_f = 400\n",
    "high_f = 800\n",
    "_ = utils.plot_fft(left_channel, right_channel, fs, start, end, low_f, high_f, log_y=True, vmax=0)\n",
    "\n",
    "# It looks like phase modudulated signal for SAM with 576.65Hz carrier and\n",
    "# (576.65-536.65)=40Hz beat frequency - which should correspond do Gamma\n",
    "# branwawe entrainment.\n",
    "#\n",
    "# You can see that it's definetely SAM because there's carrier frequency and\n",
    "# several sideband frequencies spaced exactly 40Hz from each other and exactly\n",
    "# symmetrical (496.65Hz, 536.65Hz, 616.65Hz, 656.65Hz)."
   ]
  },
  {
   "cell_type": "code",
   "execution_count": null,
   "metadata": {},
   "outputs": [],
   "source": [
    "# Let's zoom on a potential group of tree SAM signals\n",
    "start = 11\n",
    "end = 22\n",
    "low_f = 100\n",
    "high_f = 300\n",
    "_ = utils.plot_fft(left_channel, right_channel, fs, start, end, low_f, high_f, log_y=True, vmax=0)\n",
    "\n",
    "# We can definetely see that it's phase modulated signal for SAM with carriers\n",
    "# at 144.16Hz, 192.43Hz, 242.45Hz.\n",
    "#\n",
    "# Beat frequency for all 3 of them is 4Hz - which should correspond to deep\n",
    "# Theta brainwave entrainement and having 3 carries should make it more strong\n",
    "# compared to only one for Gamma."
   ]
  },
  {
   "cell_type": "code",
   "execution_count": null,
   "metadata": {},
   "outputs": [],
   "source": [
    "# Let's examine what happens at low frequenies\n",
    "start = 11\n",
    "end = 22\n",
    "low_f = 20\n",
    "high_f = 100\n",
    "_ = utils.plot_fft(left_channel, right_channel, fs, start, end, low_f, high_f, log_y=True, vmax=0)\n",
    "\n",
    "# It's hard to tell definetely but it looks more like just music tones but need\n",
    "# more in depth analysis to be sure."
   ]
  }
 ],
 "metadata": {
  "kernelspec": {
   "display_name": "base",
   "language": "python",
   "name": "python3"
  },
  "language_info": {
   "codemirror_mode": {
    "name": "ipython",
    "version": 3
   },
   "file_extension": ".py",
   "mimetype": "text/x-python",
   "name": "python",
   "nbconvert_exporter": "python",
   "pygments_lexer": "ipython3",
   "version": "3.12.2"
  }
 },
 "nbformat": 4,
 "nbformat_minor": 2
}
